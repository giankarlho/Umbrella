{
 "cells": [
  {
   "cell_type": "code",
   "execution_count": 12,
   "metadata": {},
   "outputs": [],
   "source": [
    "#cadena, newCadena = \"<i class='fa fa-power-off' aria-hidden='true'></i>OT_Acceso\",\"\"\n",
    "def cleanTitle(cadena):    \n",
    "    i = 0\n",
    "    for indice in range(len(cadena)):\n",
    "        caracter = cadena[indice]\n",
    "        if caracter=='>':\n",
    "            i +=1            \n",
    "            if i == 2:                \n",
    "                newCadena = cadena[indice+1:]\n",
    "        #print(\"En el índice {} tenemos a '{}'\".format(indice, caracter))\n",
    "    #print(newCadena)\n",
    "    newCadena = newCadena.replace(\"\\n\", \" \").strip()     \n",
    "    return newCadena "
   ]
  },
  {
   "cell_type": "code",
   "execution_count": 13,
   "metadata": {},
   "outputs": [],
   "source": [
    "#id1,id2, id3 = \"s_191_406733\", \"o_29_940921\" , 7\n",
    "def isId(cadena):\n",
    "    cadena = str(cadena)\n",
    "    newCadena = cadena\n",
    "    i = 0 \n",
    "    for indice in range(len(cadena)):\n",
    "        caracter = cadena[indice]\n",
    "        if caracter=='_':\n",
    "            i +=1            \n",
    "            if i == 2:                \n",
    "                newCadena = cadena[indice+1:]         \n",
    "    return newCadena\n",
    "#print(isId(id2))"
   ]
  },
  {
   "cell_type": "code",
   "execution_count": 14,
   "metadata": {},
   "outputs": [],
   "source": [
    "#id1, id2, id3 = \"s_191_406733\", \"o_29_940921\",  7\n",
    "def isEstado(cadena):\n",
    "    cadena = str(cadena)\n",
    "    newCadena = cadena\n",
    "    i,j = 0 ,0\n",
    "    for indice in range(len(cadena)):\n",
    "        caracter = cadena[indice]\n",
    "        if caracter=='_':\n",
    "            i +=1\n",
    "            if i == 1:\n",
    "                newCadena = cadena[indice+1:]\n",
    "            if i == 2:                \n",
    "                newCadena = newCadena[:indice-2]         \n",
    "    return newCadena\n",
    "#print(isEstado(id3))"
   ]
  },
  {
   "cell_type": "code",
   "execution_count": 1,
   "metadata": {},
   "outputs": [
    {
     "data": {
      "text/plain": [
       "False"
      ]
     },
     "execution_count": 1,
     "metadata": {},
     "output_type": "execute_result"
    }
   ],
   "source": [
    "id1, id2, id3 = \"s_3_539850\", \"o_29_912648\" , 25\n",
    "def isTemplate(id):\n",
    "    id = str(id)\n",
    "    if id[:1] == 'o':\n",
    "        return True\n",
    "    elif id[:1] == 's':\n",
    "        return False\n",
    "    else:\n",
    "        return False\n",
    "isTemplate(id3)"
   ]
  },
  {
   "cell_type": "code",
   "execution_count": 1,
   "metadata": {},
   "outputs": [],
   "source": [
    "# Validaciones\n",
    "#cadena, newCadena = \"<i class='fa fa-power-off' aria-hidden='true'></i>OT_Acceso\",\"\"\n",
    "def cleanTitle(cadena):    \n",
    "    i = 0\n",
    "    for indice in range(len(cadena)):\n",
    "        caracter = cadena[indice]\n",
    "        if caracter=='>':\n",
    "            i +=1            \n",
    "            if i == 2:                \n",
    "                newCadena = cadena[indice+1:]\n",
    "        #print(\"En el índice {} tenemos a '{}'\".format(indice, caracter))\n",
    "    #print(newCadena)\n",
    "    newCadena = newCadena.replace(\"\\n\", \" \").strip()     \n",
    "    return newCadena \n",
    "\n",
    "#id1,id2, id3 = \"s_191_406733\", \"o_29_940921\" , 7\n",
    "def isId(cadena):\n",
    "    cadena = str(cadena)\n",
    "    newCadena = cadena\n",
    "    i = 0 \n",
    "    for indice in range(len(cadena)):\n",
    "        caracter = cadena[indice]\n",
    "        if caracter=='_':\n",
    "            i +=1            \n",
    "            if i == 2:                \n",
    "                newCadena = cadena[indice+1:]         \n",
    "    return newCadena\n",
    "#print(isId(id2))\n",
    "\n",
    "def isEstado(cadena):\n",
    "    cadena = str(cadena)\n",
    "    newCadena = cadena\n",
    "    i,j = 0 ,0\n",
    "    for indice in range(len(cadena)):\n",
    "        caracter = cadena[indice]\n",
    "        if caracter=='_':\n",
    "            i +=1\n",
    "            if i == 1:\n",
    "                newCadena = cadena[indice+1:]\n",
    "            if i == 2:                \n",
    "                newCadena = newCadena[:indice-2]         \n",
    "    return newCadena\n",
    "#print(isEstado(id3))\n",
    "\n",
    "def isTemplate(id):\n",
    "    id = str(id)\n",
    "    if id[:1] == 'o':\n",
    "        return True\n",
    "    elif id[:1] == 's':\n",
    "        return False\n",
    "    else:\n",
    "        return False\n",
    "#isTemplate(id3)"
   ]
  },
  {
   "cell_type": "code",
   "execution_count": 5,
   "metadata": {},
   "outputs": [
    {
     "name": "stdout",
     "output_type": "stream",
     "text": [
      "Se tiene 125 registros en U2 -> tabla sv_task_job_temp_2\n",
      "Y 0 registros en U3 -> tabla json_umbrella3\n"
     ]
    }
   ],
   "source": [
    "# pip install mysql-connector-python\n",
    "\n",
    "import json\n",
    "import codecs\n",
    "import mysql.connector\n",
    "\n",
    "# Conectando a la BD U2\n",
    "conexion = mysql.connector.connect(\n",
    "    host=\"u3baseprojecttesting-instance-1.cfab6ja9ffuu.us-east-1.rds.amazonaws.com\",\n",
    "    user=\"\",\n",
    "    password=\"\",\n",
    "    database=\"\"\n",
    ")\n",
    "\n",
    "# Creando un cursor para ejecutar consultas en la base de datos\n",
    "cursor = conexion.cursor()\n",
    "\n",
    "# Ejecutando una consulta SQL para obtener el campo JSON de la tabla\n",
    "#consultaU2 = \"SELECT id,flowchart FROM sv_task_job_temp_2\"\n",
    "consultaU2 = \"SELECT id,site_id,datecreate,name,icon,description,status,flowchart,accessedit from sv_task_job_temp_2\"\n",
    "cursor.execute(consultaU2)\n",
    "resultadoU2 = cursor.fetchall()\n",
    "print(f\"Se tiene {len(resultadoU2)} registros en U2 -> tabla sv_task_job_temp_2\")\n",
    "\n",
    "consultaU3 = \"select jsonumbrella3 from json_umbrella3\"\n",
    "cursor.execute(consultaU3)\n",
    "resultadoU3 = cursor.fetchall()\n",
    "print(f\"Y {len(resultadoU3)} registros en U3 -> tabla json_umbrella3\")"
   ]
  },
  {
   "cell_type": "code",
   "execution_count": 6,
   "metadata": {},
   "outputs": [],
   "source": [
    "def setQuery_U3(id,site_id,created_by,datecreate,icon,description,status,json_umbrella3,accessedit):\n",
    "#def setQuery_U3(id,json_umbrella3):\n",
    "    # Construir la consulta SQL\n",
    "    sql_query = \"INSERT INTO json_umbrella3 (id,site_id,datecreate,name,icon,description,status,jsonumbrella3,accessedit) VALUES (%s, %s, %s,%s,%s,%s,%s,%s,%s)\"\n",
    "    values = (id, site_id, created_by,datecreate,icon,description,status,json_umbrella3,accessedit)\n",
    "    #values = (id,\"\",\"\",\"\",\"\",\"\",\"\",json_umbrella3,\"\")\n",
    "\n",
    "    # Ejecutar la consulta\n",
    "    cursor.execute(sql_query, values)\n",
    "    conexion.commit()"
   ]
  },
  {
   "cell_type": "code",
   "execution_count": 7,
   "metadata": {},
   "outputs": [],
   "source": [
    "#def setJson_U3(ids_list, operators_list,links_list):\n",
    "def setJson_U3(id,site_id,datecreate,name,icon,description,status,accessedit,operators_list,links_list):\n",
    "    # JSON inicial\n",
    "    initial_json = {\n",
    "        \"nodes\": [],\n",
    "        \"edges\": []\n",
    "    }\n",
    "\n",
    "    # Llenar nodes con la lista de operadores\n",
    "    for operator in operators_list:\n",
    "        node = {\n",
    "            \"id\": isId(operator[\"id\"])  ,\n",
    "            \"type\": \"custom\",\n",
    "            \"position\": {\n",
    "                \"x\": operator[\"left\"],\n",
    "                \"y\": operator[\"top\"]\n",
    "            },\n",
    "            \"data\": {\n",
    "                \"label\": cleanTitle(operator[\"properties\"][\"title\"]),                                \n",
    "                \"isTemplate\": isTemplate(operator[\"id\"]),\n",
    "                \"id\": isEstado(operator[\"id\"]),\n",
    "                \"icon\": \"null\"\n",
    "            },\n",
    "            \"width\": 150,\n",
    "            \"height\": 39,\n",
    "            \"selected\": False,\n",
    "            \"positionAbsolute\": {\n",
    "                \"x\": operator[\"left\"],\n",
    "                \"y\": operator[\"top\"]\n",
    "            },\n",
    "            \"dragging\": False\n",
    "        }\n",
    "        initial_json[\"nodes\"].append(node)\n",
    "\n",
    "    # Llenar edges con la lista de links\n",
    "    for link in links_list:\n",
    "        edge = {\n",
    "            \"source\": isId(link[\"fromOperator\"]),\n",
    "            \"sourceHandle\": \"null\",\n",
    "            \"target\": isId(link[\"toOperator\"]),\n",
    "            \"targetHandle\": \"null\",\n",
    "            \"animated\": False,\n",
    "            \"deletable\": True,\n",
    "            \"type\": \"custom\",\n",
    "            \"markerEnd\": {\n",
    "                \"type\": \"arrowclosed\"\n",
    "            },\n",
    "            \"id\": \"\"\n",
    "        }\n",
    "        initial_json[\"edges\"].append(edge)\n",
    "\n",
    "    # Convertir a JSON     \n",
    "    json_umbrella3 = json.dumps(initial_json, indent=4)\n",
    "    json_umbrella3_utf8 = json_umbrella3.encode('utf-8').decode('unicode-escape')\n",
    "\n",
    "    # print(json_umbrella3)\n",
    "    \n",
    "    setQuery_U3(id,site_id,datecreate,name,icon,description,status,json_umbrella3,accessedit)\n",
    "    #setQuery_U3(ids_list, json_umbrella3_utf8)"
   ]
  },
  {
   "cell_type": "code",
   "execution_count": 8,
   "metadata": {},
   "outputs": [
    {
     "name": "stdout",
     "output_type": "stream",
     "text": [
      "Datos insertados correctamente en la base de datos.\n"
     ]
    }
   ],
   "source": [
    "# Procesando los datos obtenidos del campo JSON\n",
    "datos_operators = []\n",
    "datos_link = []\n",
    "regNulls, opeNull, linNull, cantReg = 0,0,0,0\n",
    "ids_list = []\n",
    "campo_json = []\n",
    "\n",
    "try:\n",
    "    for fila in resultadoU2:  \n",
    "        #id_value, flowchart_value  = fila               \n",
    "        #campo_json.append(flowchart_value)\n",
    "        \n",
    "        ids = fila[0]        \n",
    "        site_id = fila[1]\n",
    "        datecreate = fila[2]\n",
    "        name = fila[3]\n",
    "        icon = fila[4]\n",
    "        description = fila[5]\n",
    "        status = fila[6]\n",
    "        campo_json = fila[7]\n",
    "        accessedit = fila[8]\n",
    "\n",
    "        # Verificar si el JSON es nulo  \n",
    "        if campo_json is not None:               \n",
    "                  \n",
    "            datos = json.loads(campo_json) \n",
    "            #ids_list.append(id_value) \n",
    "         \n",
    "            # operators = datos[\"operators\"]\n",
    "            if \"operators\" in datos and datos[\"operators\"]:     # Maneja el operators nulo\n",
    "                # operators_list = list(operators.values())                \n",
    "                operators_list = list(datos[\"operators\"].values())                     \n",
    "            else:            \n",
    "                operators_list = []\n",
    "                opeNull += 1           \n",
    "         \n",
    "                #links = datos[\"links\"]\n",
    "            if \"links\" in datos and datos[\"links\"]:             # Maneja los links nulos\n",
    "                #links_list = list(links.values())\n",
    "                links_list = list(datos[\"links\"].values())\n",
    "            else:\n",
    "                links_list = []              \n",
    "                linNull +=1   \n",
    "        else:            \n",
    "            regNulls +=1\n",
    "            continue\n",
    "            #print(\"El JSON es nulo.\")\n",
    "\n",
    "        if operators_list and links_list:\n",
    "            #setJson_U3(ids, operators_list, links_list) \n",
    "            cantReg += 1 \n",
    "            setJson_U3(ids,site_id,datecreate,name,icon,description,status,accessedit,operators_list,links_list)\n",
    "\n",
    "    print(f\"Se insertaron correctamente {cantReg} registros en la BD\")\n",
    "except mysql.connector.Error as error:\n",
    "        print(\"Error al insertar los datos en la base de datos:\", error)"
   ]
  },
  {
   "cell_type": "code",
   "execution_count": 35,
   "metadata": {},
   "outputs": [
    {
     "name": "stdout",
     "output_type": "stream",
     "text": [
      "Cant. de registros nulos:  4\n",
      "Cant. de operators nulos:  4\n",
      "Cant. de links nulos:  16\n"
     ]
    }
   ],
   "source": [
    "print(\"Cant. de registros nulos: \",regNulls)\n",
    "print(\"Cant. de operators nulos: \",opeNull)\n",
    "print(\"Cant. de links nulos: \",linNull)"
   ]
  },
  {
   "cell_type": "code",
   "execution_count": 10,
   "metadata": {},
   "outputs": [],
   "source": [
    "# Cerrando la conexión y el cursor una vez que hayas terminado de trabajar con la base de datos\n",
    "# Confirmar los cambios y cerrar la conexión\n",
    "conexion.commit()\n",
    "cursor.close()\n",
    "conexion.close()"
   ]
  },
  {
   "cell_type": "code",
   "execution_count": null,
   "metadata": {},
   "outputs": [],
   "source": [
    "# Imprimiendo la lista de Links\n",
    "print(\"\\nLinks:\")\n",
    "for link in links_list:\n",
    "    print(link)"
   ]
  },
  {
   "cell_type": "code",
   "execution_count": null,
   "metadata": {},
   "outputs": [],
   "source": [
    "# Imprimiendo la lista Operators\n",
    "print(\"Operators:\")\n",
    "for operator in operators_list:\n",
    "    print(operator)"
   ]
  },
  {
   "cell_type": "code",
   "execution_count": null,
   "metadata": {},
   "outputs": [],
   "source": [
    "# Quitando los \\n\\t\\n y espacios en blanco en los extremos\n",
    "cadena = \"\\n\\tHola\\nMundo\\n    \\n\\t \"\n",
    "cadena_sin_salto = cadena.replace(\"\\n\", \" \")\n",
    "print(cadena_sin_salto.strip())\n",
    "#print(cadena_sin_salto.strip(), len(cadena_sin_salto.strip()))"
   ]
  },
  {
   "cell_type": "code",
   "execution_count": 36,
   "metadata": {},
   "outputs": [
    {
     "name": "stdout",
     "output_type": "stream",
     "text": [
      "Facturación\n"
     ]
    }
   ],
   "source": [
    "# Probando conversión a utf-8\n",
    "#cadena = \"OT_Inservice_Verificaci\\u00f3n de Calidad\"\n",
    "cadena = \"Facturaci\\u00f3n\"\n",
    "print(cadena.encode().decode('utf-8'))"
   ]
  }
 ],
 "metadata": {
  "kernelspec": {
   "display_name": "Python 3",
   "language": "python",
   "name": "python3"
  },
  "language_info": {
   "codemirror_mode": {
    "name": "ipython",
    "version": 3
   },
   "file_extension": ".py",
   "mimetype": "text/x-python",
   "name": "python",
   "nbconvert_exporter": "python",
   "pygments_lexer": "ipython3",
   "version": "3.11.3"
  },
  "orig_nbformat": 4
 },
 "nbformat": 4,
 "nbformat_minor": 2
}
